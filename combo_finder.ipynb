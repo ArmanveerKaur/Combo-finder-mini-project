{
  "nbformat": 4,
  "nbformat_minor": 0,
  "metadata": {
    "colab": {
      "provenance": [],
      "authorship_tag": "ABX9TyOzx4LKIAl08VyStltrBQfS",
      "include_colab_link": true
    },
    "kernelspec": {
      "name": "python3",
      "display_name": "Python 3"
    },
    "language_info": {
      "name": "python"
    }
  },
  "cells": [
    {
      "cell_type": "markdown",
      "metadata": {
        "id": "view-in-github",
        "colab_type": "text"
      },
      "source": [
        "<a href=\"https://colab.research.google.com/github/ArmanveerKaur/Combo-finder-mini-project/blob/main/combo_finder.ipynb\" target=\"_parent\"><img src=\"https://colab.research.google.com/assets/colab-badge.svg\" alt=\"Open In Colab\"/></a>"
      ]
    },
    {
      "cell_type": "markdown",
      "source": [
        "Problem statement  \n",
        "Find all the list of products whose sum-of-price is between 290 and 310.\n",
        "\n",
        "ProductList = {p1:10, p2:15, p3:20, p4:25, p5:30, p6:35, p7:50}\n",
        "\n"
      ],
      "metadata": {
        "id": "ryANJ_IKYoVy"
      }
    },
    {
      "cell_type": "code",
      "source": [
        "import random as r\n",
        "\n",
        "ProductList = {'p1':10, 'p2':15, 'p3':20, 'p4':25, 'p5':30, 'p6':35, 'p7':50,\n",
        "               'p8':40, 'p9':55, 'p10':60, 'p11':65, 'p12':75, 'p13':70,\n",
        "               'p14':45}\n",
        "LB          = 290\n",
        "UB          = 310\n",
        "Result_List  = set()   # Store Result \n",
        "Iterations  = 1000    \n",
        "\n",
        "for i in range(Iterations):\n",
        "    \n",
        "    Size = r.randint(2, len(ProductList)-1)\n",
        "\n",
        "    ComboList = r.sample(list(ProductList.keys()),Size)\n",
        "    \n",
        "    Sum = sum([ ProductList[i] for i in ComboList])\n",
        "\n",
        "    if Sum>= LB and Sum<= UB:\n",
        "      Result_List.add(tuple(ComboList))\n",
        "\n",
        "for r in Result_List:\n",
        "\tprint (r)\n",
        "\n",
        "print (\"\\nTotal Sets: \", len(Result_List), \"\\n\")"
      ],
      "metadata": {
        "colab": {
          "base_uri": "https://localhost:8080/"
        },
        "id": "i9cZ5qTaHSP7",
        "outputId": "cff204f8-a069-4201-9fd4-449f962beb46"
      },
      "execution_count": 3,
      "outputs": [
        {
          "output_type": "stream",
          "name": "stdout",
          "text": [
            "('p5', 'p14', 'p10', 'p9', 'p1', 'p4', 'p11')\n",
            "('p12', 'p14', 'p11', 'p1', 'p6', 'p3', 'p2', 'p4')\n",
            "('p9', 'p5', 'p1', 'p13', 'p10', 'p8', 'p14')\n",
            "('p12', 'p2', 'p9', 'p1', 'p7', 'p5', 'p10')\n",
            "('p10', 'p7', 'p14', 'p4', 'p11', 'p8', 'p1')\n",
            "('p2', 'p11', 'p1', 'p8', 'p12', 'p6', 'p9')\n",
            "('p11', 'p7', 'p14', 'p13', 'p4', 'p9')\n",
            "('p7', 'p1', 'p14', 'p12', 'p13', 'p8', 'p3')\n",
            "('p2', 'p11', 'p3', 'p14', 'p5', 'p4', 'p8', 'p1', 'p9')\n",
            "('p4', 'p11', 'p5', 'p3', 'p14', 'p1', 'p9', 'p7')\n",
            "('p1', 'p12', 'p14', 'p11', 'p8', 'p3', 'p9')\n",
            "('p8', 'p1', 'p13', 'p7', 'p11', 'p9')\n",
            "('p6', 'p13', 'p7', 'p10', 'p4', 'p3', 'p8', 'p1')\n",
            "('p8', 'p5', 'p9', 'p1', 'p14', 'p4', 'p13', 'p2')\n",
            "('p12', 'p2', 'p9', 'p3', 'p5', 'p1', 'p7', 'p14')\n",
            "('p11', 'p9', 'p6', 'p1', 'p12', 'p8', 'p2')\n",
            "('p9', 'p6', 'p12', 'p10', 'p5', 'p1', 'p8')\n",
            "('p5', 'p4', 'p10', 'p7', 'p3', 'p14', 'p12')\n",
            "('p13', 'p2', 'p10', 'p4', 'p6', 'p14', 'p5', 'p3')\n",
            "('p14', 'p1', 'p3', 'p10', 'p7', 'p8', 'p12')\n",
            "('p8', 'p5', 'p1', 'p3', 'p6', 'p14', 'p7', 'p11')\n",
            "('p14', 'p11', 'p1', 'p9', 'p7', 'p5', 'p6')\n",
            "('p1', 'p9', 'p12', 'p3', 'p14', 'p6', 'p7')\n",
            "('p14', 'p6', 'p1', 'p4', 'p11', 'p2', 'p5', 'p13')\n",
            "('p9', 'p12', 'p11', 'p7', 'p14')\n",
            "('p7', 'p5', 'p4', 'p10', 'p13', 'p6', 'p1', 'p2')\n",
            "('p4', 'p9', 'p5', 'p13', 'p10', 'p3', 'p14')\n",
            "('p14', 'p12', 'p10', 'p4', 'p9', 'p2', 'p3')\n",
            "('p7', 'p9', 'p12', 'p14', 'p13', 'p1')\n",
            "('p11', 'p12', 'p5', 'p14', 'p10', 'p4')\n",
            "('p2', 'p1', 'p7', 'p12', 'p13', 'p9', 'p4')\n",
            "('p1', 'p11', 'p3', 'p12', 'p13', 'p2', 'p5', 'p4')\n",
            "('p5', 'p6', 'p9', 'p14', 'p2', 'p8', 'p11', 'p3')\n",
            "('p14', 'p9', 'p1', 'p4', 'p6', 'p2', 'p13', 'p3', 'p5')\n",
            "('p14', 'p4', 'p1', 'p6', 'p2', 'p5', 'p9', 'p3', 'p11')\n",
            "('p6', 'p14', 'p8', 'p2', 'p3', 'p5', 'p1', 'p7', 'p9')\n",
            "('p14', 'p1', 'p12', 'p4', 'p11', 'p10', 'p2')\n",
            "('p7', 'p13', 'p8', 'p4', 'p5', 'p1', 'p11')\n",
            "('p11', 'p6', 'p1', 'p7', 'p3', 'p2', 'p12', 'p5')\n",
            "('p5', 'p4', 'p9', 'p10', 'p2', 'p11', 'p8')\n",
            "('p12', 'p4', 'p3', 'p13', 'p8', 'p11', 'p1')\n",
            "('p10', 'p2', 'p13', 'p8', 'p3', 'p6', 'p11')\n",
            "\n",
            "Total Sets:  42 \n",
            "\n"
          ]
        }
      ]
    }
  ]
}